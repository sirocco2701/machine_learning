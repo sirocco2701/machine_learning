{
 "cells": [
  {
   "attachments": {},
   "cell_type": "markdown",
   "metadata": {},
   "source": [
    "loading librarys"
   ]
  },
  {
   "cell_type": "code",
   "execution_count": 303,
   "metadata": {},
   "outputs": [],
   "source": [
    "import numpy as np\n",
    "from numpy import arange\n",
    "import pandas as pd\n",
    "import matplotlib as plt\n",
    "from scipy.optimize import curve_fit\n",
    "from matplotlib import pyplot\n",
    "from sklearn import model_selection, preprocessing, neighbors,svm\n",
    "from sklearn.linear_model import LogisticRegression\n",
    "from sklearn.cluster import KMeans,DBSCAN\n",
    "from sklearn.metrics import r2_score,silhouette_score"
   ]
  },
  {
   "attachments": {},
   "cell_type": "markdown",
   "metadata": {},
   "source": [
    "loading and converting data"
   ]
  },
  {
   "cell_type": "code",
   "execution_count": 304,
   "metadata": {},
   "outputs": [
    {
     "data": {
      "text/html": [
       "<div>\n",
       "<style scoped>\n",
       "    .dataframe tbody tr th:only-of-type {\n",
       "        vertical-align: middle;\n",
       "    }\n",
       "\n",
       "    .dataframe tbody tr th {\n",
       "        vertical-align: top;\n",
       "    }\n",
       "\n",
       "    .dataframe thead th {\n",
       "        text-align: right;\n",
       "    }\n",
       "</style>\n",
       "<table border=\"1\" class=\"dataframe\">\n",
       "  <thead>\n",
       "    <tr style=\"text-align: right;\">\n",
       "      <th></th>\n",
       "      <th>season</th>\n",
       "      <th>age</th>\n",
       "      <th>ACCIDENT</th>\n",
       "      <th>diseases</th>\n",
       "      <th>surgical</th>\n",
       "      <th>fevers</th>\n",
       "      <th>alcohol</th>\n",
       "      <th>smoking</th>\n",
       "      <th>sitting</th>\n",
       "      <th>diagnosis</th>\n",
       "    </tr>\n",
       "  </thead>\n",
       "  <tbody>\n",
       "    <tr>\n",
       "      <th>0</th>\n",
       "      <td>-0.33</td>\n",
       "      <td>0.69</td>\n",
       "      <td>0</td>\n",
       "      <td>1</td>\n",
       "      <td>1</td>\n",
       "      <td>0</td>\n",
       "      <td>0.8</td>\n",
       "      <td>0</td>\n",
       "      <td>0.88</td>\n",
       "      <td>0</td>\n",
       "    </tr>\n",
       "    <tr>\n",
       "      <th>1</th>\n",
       "      <td>-0.33</td>\n",
       "      <td>0.94</td>\n",
       "      <td>1</td>\n",
       "      <td>0</td>\n",
       "      <td>1</td>\n",
       "      <td>0</td>\n",
       "      <td>0.8</td>\n",
       "      <td>1</td>\n",
       "      <td>0.31</td>\n",
       "      <td>1</td>\n",
       "    </tr>\n",
       "    <tr>\n",
       "      <th>2</th>\n",
       "      <td>-0.33</td>\n",
       "      <td>0.50</td>\n",
       "      <td>1</td>\n",
       "      <td>0</td>\n",
       "      <td>0</td>\n",
       "      <td>0</td>\n",
       "      <td>1.0</td>\n",
       "      <td>-1</td>\n",
       "      <td>0.50</td>\n",
       "      <td>0</td>\n",
       "    </tr>\n",
       "    <tr>\n",
       "      <th>3</th>\n",
       "      <td>-0.33</td>\n",
       "      <td>0.75</td>\n",
       "      <td>0</td>\n",
       "      <td>1</td>\n",
       "      <td>1</td>\n",
       "      <td>0</td>\n",
       "      <td>1.0</td>\n",
       "      <td>-1</td>\n",
       "      <td>0.38</td>\n",
       "      <td>0</td>\n",
       "    </tr>\n",
       "    <tr>\n",
       "      <th>4</th>\n",
       "      <td>-0.33</td>\n",
       "      <td>0.67</td>\n",
       "      <td>1</td>\n",
       "      <td>1</td>\n",
       "      <td>0</td>\n",
       "      <td>0</td>\n",
       "      <td>0.8</td>\n",
       "      <td>-1</td>\n",
       "      <td>0.50</td>\n",
       "      <td>1</td>\n",
       "    </tr>\n",
       "    <tr>\n",
       "      <th>5</th>\n",
       "      <td>-0.33</td>\n",
       "      <td>0.67</td>\n",
       "      <td>1</td>\n",
       "      <td>0</td>\n",
       "      <td>1</td>\n",
       "      <td>0</td>\n",
       "      <td>0.8</td>\n",
       "      <td>0</td>\n",
       "      <td>0.50</td>\n",
       "      <td>0</td>\n",
       "    </tr>\n",
       "    <tr>\n",
       "      <th>6</th>\n",
       "      <td>-0.33</td>\n",
       "      <td>0.67</td>\n",
       "      <td>0</td>\n",
       "      <td>0</td>\n",
       "      <td>0</td>\n",
       "      <td>-1</td>\n",
       "      <td>0.8</td>\n",
       "      <td>-1</td>\n",
       "      <td>0.44</td>\n",
       "      <td>0</td>\n",
       "    </tr>\n",
       "    <tr>\n",
       "      <th>7</th>\n",
       "      <td>-0.33</td>\n",
       "      <td>1.00</td>\n",
       "      <td>1</td>\n",
       "      <td>1</td>\n",
       "      <td>1</td>\n",
       "      <td>0</td>\n",
       "      <td>0.6</td>\n",
       "      <td>-1</td>\n",
       "      <td>0.38</td>\n",
       "      <td>0</td>\n",
       "    </tr>\n",
       "    <tr>\n",
       "      <th>8</th>\n",
       "      <td>1.00</td>\n",
       "      <td>0.64</td>\n",
       "      <td>0</td>\n",
       "      <td>0</td>\n",
       "      <td>1</td>\n",
       "      <td>0</td>\n",
       "      <td>0.8</td>\n",
       "      <td>-1</td>\n",
       "      <td>0.25</td>\n",
       "      <td>0</td>\n",
       "    </tr>\n",
       "    <tr>\n",
       "      <th>9</th>\n",
       "      <td>1.00</td>\n",
       "      <td>0.61</td>\n",
       "      <td>1</td>\n",
       "      <td>0</td>\n",
       "      <td>0</td>\n",
       "      <td>0</td>\n",
       "      <td>1.0</td>\n",
       "      <td>-1</td>\n",
       "      <td>0.25</td>\n",
       "      <td>0</td>\n",
       "    </tr>\n",
       "  </tbody>\n",
       "</table>\n",
       "</div>"
      ],
      "text/plain": [
       "   season   age  ACCIDENT  diseases  surgical  fevers  alcohol  smoking  \\\n",
       "0   -0.33  0.69         0         1         1       0      0.8        0   \n",
       "1   -0.33  0.94         1         0         1       0      0.8        1   \n",
       "2   -0.33  0.50         1         0         0       0      1.0       -1   \n",
       "3   -0.33  0.75         0         1         1       0      1.0       -1   \n",
       "4   -0.33  0.67         1         1         0       0      0.8       -1   \n",
       "5   -0.33  0.67         1         0         1       0      0.8        0   \n",
       "6   -0.33  0.67         0         0         0      -1      0.8       -1   \n",
       "7   -0.33  1.00         1         1         1       0      0.6       -1   \n",
       "8    1.00  0.64         0         0         1       0      0.8       -1   \n",
       "9    1.00  0.61         1         0         0       0      1.0       -1   \n",
       "\n",
       "   sitting  diagnosis  \n",
       "0     0.88          0  \n",
       "1     0.31          1  \n",
       "2     0.50          0  \n",
       "3     0.38          0  \n",
       "4     0.50          1  \n",
       "5     0.50          0  \n",
       "6     0.44          0  \n",
       "7     0.38          0  \n",
       "8     0.25          0  \n",
       "9     0.25          0  "
      ]
     },
     "execution_count": 304,
     "metadata": {},
     "output_type": "execute_result"
    }
   ],
   "source": [
    "#read txt data\n",
    "txtdf=pd.read_csv(\"Infant_Diagnosis.txt\",header=None)\n",
    "txtdf.columns=['season','age','ACCIDENT','diseases','surgical','fevers','alcohol','smoking','sitting','diagnosis']\n",
    "#convert txt to csv\n",
    "txtdf.to_csv(\"Infant_Diagnosis.csv\",index=None)\n",
    "df=pd.read_csv(\"Infant_Diagnosis.csv\")\n",
    "#convert string dependent variable to bool\n",
    "df['diagnosis']=df['diagnosis'].replace(['N','O'],[0,1])\n",
    "df.head(10)"
   ]
  },
  {
   "attachments": {},
   "cell_type": "markdown",
   "metadata": {},
   "source": [
    "spliting data"
   ]
  },
  {
   "cell_type": "code",
   "execution_count": 305,
   "metadata": {},
   "outputs": [
    {
     "name": "stderr",
     "output_type": "stream",
     "text": [
      "<ipython-input-305-eea423060ccc>:1: FutureWarning: In a future version of pandas all arguments of DataFrame.drop except for the argument 'labels' will be keyword-only.\n",
      "  x = np.array(df.drop(['diagnosis'],1))\n"
     ]
    }
   ],
   "source": [
    "x = np.array(df.drop(['diagnosis'],1))\n",
    "y = np.array(df['diagnosis'])\n",
    "x_train, x_test, y_train, y_test = model_selection.train_test_split(x,y,test_size=0.2)\n"
   ]
  },
  {
   "attachments": {},
   "cell_type": "markdown",
   "metadata": {},
   "source": [
    "ploting data\n"
   ]
  },
  {
   "cell_type": "code",
   "execution_count": 306,
   "metadata": {},
   "outputs": [
    {
     "data": {
      "text/plain": [
       "<matplotlib.collections.PathCollection at 0x2a871413520>"
      ]
     },
     "execution_count": 306,
     "metadata": {},
     "output_type": "execute_result"
    },
    {
     "data": {
      "image/png": "[encoded data removed]",
      "text/plain": [
       "<Figure size 432x288 with 1 Axes>"
      ]
     },
     "metadata": {
      "needs_background": "light"
     },
     "output_type": "display_data"
    }
   ],
   "source": [
    "pyplot.scatter(df['season'],df['diagnosis'])\n",
    "pyplot.scatter(df['age'],df['diagnosis'])\n",
    "pyplot.scatter(df['ACCIDENT'],df['diagnosis'])\n",
    "pyplot.scatter(df['diseases'],df['diagnosis'])\n",
    "pyplot.scatter(df['surgical'],df['diagnosis'])\n",
    "pyplot.scatter(df['fevers'],df['diagnosis'])\n",
    "pyplot.scatter(df['alcohol'],df['diagnosis'])\n",
    "pyplot.scatter(df['smoking'],df['diagnosis'])\n",
    "pyplot.scatter(df['sitting'],df['diagnosis'])"
   ]
  },
  {
   "attachments": {},
   "cell_type": "markdown",
   "metadata": {},
   "source": [
    "# logistic regresion\n",
    "in logistic regression, we find a separating line between data \n",
    "\n",
    "in the code, we fit train data in the model and then calculate the accuracy of test data\n",
    "\n",
    "according to the scatter plot, we can divide data with a line "
   ]
  },
  {
   "cell_type": "code",
   "execution_count": 307,
   "metadata": {},
   "outputs": [
    {
     "data": {
      "text/plain": [
       "0.9"
      ]
     },
     "execution_count": 307,
     "metadata": {},
     "output_type": "execute_result"
    }
   ],
   "source": [
    "logistic=LogisticRegression().fit(x_train,y_train)\n",
    "accuracy=logistic.score(x_test,y_test)\n",
    "accuracy"
   ]
  },
  {
   "attachments": {},
   "cell_type": "markdown",
   "metadata": {},
   "source": [
    "# knn\n",
    "\n",
    "\n",
    "in knn first, we choose k that has the best performance which is shown in the figure below then the distance of unknown data from all other data is calculated and k nearest neighbors are specified then based on their output the result of unknown data is estimated\n",
    "\n",
    "\n",
    "in the code we have a loop from 2 to 25 to find the best k so for each k we fit train data and add its score to a list then find the max of the list and chose it as the best k\n",
    "\n",
    "\n",
    "then calculate accuracy with the best k\n",
    "\n",
    "plot score for k from 2 to 25\n"
   ]
  },
  {
   "cell_type": "code",
   "execution_count": 308,
   "metadata": {},
   "outputs": [
    {
     "name": "stdout",
     "output_type": "stream",
     "text": [
      "best k 3\n"
     ]
    },
    {
     "data": {
      "text/plain": [
       "0.9"
      ]
     },
     "execution_count": 308,
     "metadata": {},
     "output_type": "execute_result"
    },
    {
     "data": {
      "image/png": "[encoded data removed]",
      "text/plain": [
       "<Figure size 432x288 with 1 Axes>"
      ]
     },
     "metadata": {
      "needs_background": "light"
     },
     "output_type": "display_data"
    }
   ],
   "source": [
    "a=[]\n",
    "for i in range (2,25):\n",
    "\n",
    "    clf = neighbors.KNeighborsClassifier(i) \n",
    "    clf.fit(x_train, y_train)\n",
    "    a.append( clf.score(x_train, y_train))\n",
    "\n",
    "print(\"best k\",a.index(max(a))+2)\n",
    "pyplot.plot(range(2,25),np.array(a))\n",
    "\n",
    "clf = neighbors.KNeighborsClassifier(a.index(max(a))+2) \n",
    "clf.fit(x_train, y_train)\n",
    "accuracy=clf.score(x_test, y_test)\n",
    "accuracy"
   ]
  },
  {
   "cell_type": "code",
   "execution_count": 309,
   "metadata": {},
   "outputs": [
    {
     "name": "stdout",
     "output_type": "stream",
     "text": [
      "[1, 0, 1, 1, 1, 1, 1, 1, 1, 1, 1, 1, 0, 1, 1, 1, 1, 1, 1, 1]\n"
     ]
    }
   ],
   "source": [
    "prediction = clf.predict(x_test)\n",
    "#show the accuracy for train data\n",
    "z=[]\n",
    "for i in range (len(x_test)):\n",
    "    x_test[i]\n",
    "    if clf.predict([x_test[i]])==y_test[i]:\n",
    "        z.append(1)\n",
    "    else:\n",
    "        z.append(0)\n",
    "print(z)\n",
    "#in this run 2 of 20 data are 0 which makes the  accuracy 0.9"
   ]
  },
  {
   "attachments": {},
   "cell_type": "markdown",
   "metadata": {},
   "source": [
    "# svm\n",
    "\n",
    "in svm we take data to a higher dimention and then separate them\n",
    "\n",
    "in the code, we fit train data in the model and then calculate the accuracy of test data"
   ]
  },
  {
   "cell_type": "code",
   "execution_count": 310,
   "metadata": {},
   "outputs": [
    {
     "name": "stdout",
     "output_type": "stream",
     "text": [
      "0.9\n"
     ]
    }
   ],
   "source": [
    "clf = svm.SVC()\n",
    "clf.fit(x_train, y_train)\n",
    "accuracy = clf.score(x_test, y_test)\n",
    "print(accuracy)"
   ]
  },
  {
   "attachments": {},
   "cell_type": "markdown",
   "metadata": {},
   "source": [
    "# kmeans\n",
    "in kmeans first we chose the best k between 1 to 11 then chose k random data to be the center of the cluster and calculate the distance of all data to k centers and assign each data to a center then calculate the mean of each cluster and make it the new center and keep doing till no changes happen in centers \n",
    "\n",
    "in the code, we fit data to the model and add a new column that shows the cluster of the data, and drop the diagnosis because the method is unsupervised and does not suppose to have results \n",
    "\n",
    "The best k for this data is 3 because we have a bending point"
   ]
  },
  {
   "cell_type": "code",
   "execution_count": 311,
   "metadata": {},
   "outputs": [
    {
     "name": "stderr",
     "output_type": "stream",
     "text": [
      "c:\\Users\\Harir\\AppData\\Local\\Programs\\Python\\Python39\\lib\\site-packages\\sklearn\\base.py:450: UserWarning: X does not have valid feature names, but KMeans was fitted with feature names\n",
      "  warnings.warn(\n"
     ]
    },
    {
     "data": {
      "text/plain": [
       "0.2208381688512052"
      ]
     },
     "execution_count": 311,
     "metadata": {},
     "output_type": "execute_result"
    }
   ],
   "source": [
    "kmeansdf=df.drop(['diagnosis'],axis=1)\n",
    "kmeans=KMeans(n_clusters=3)\n",
    "cluster=kmeans.fit_predict(kmeansdf)\n",
    "kmeansdf.insert(kmeansdf.columns.get_loc('season'),\"cluser\",cluster)\n",
    "kmeansdf.head(20)\n",
    "y_per=kmeans.predict(x_test)\n",
    "silhouette_score(x_test,y_per)"
   ]
  },
  {
   "cell_type": "code",
   "execution_count": 312,
   "metadata": {},
   "outputs": [
    {
     "data": {
      "text/plain": [
       "[<matplotlib.lines.Line2D at 0x2a8714d01c0>]"
      ]
     },
     "execution_count": 312,
     "metadata": {},
     "output_type": "execute_result"
    },
    {
     "data": {
      "image/png": "[encoded data removed]",
      "text/plain": [
       "<Figure size 432x288 with 1 Axes>"
      ]
     },
     "metadata": {
      "needs_background": "light"
     },
     "output_type": "display_data"
    }
   ],
   "source": [
    "kmeans_kwargs={\"init\":\"random\",\"n_init\":10,\"random_state\":1}\n",
    "sse=[]\n",
    "for k in range (1,11):\n",
    "    kmeans=KMeans(n_clusters=k,**kmeans_kwargs)\n",
    "    kmeans.fit(df)\n",
    "    sse.append(kmeans.inertia_)\n",
    "plt.pyplot.plot(range(1,11),sse)\n"
   ]
  },
  {
   "attachments": {},
   "cell_type": "markdown",
   "metadata": {},
   "source": [
    "we have elbow at k=3"
   ]
  }
 ],
 "metadata": {
  "kernelspec": {
   "display_name": "Python 3",
   "language": "python",
   "name": "python3"
  },
  "language_info": {
   "codemirror_mode": {
    "name": "ipython",
    "version": 3
   },
   "file_extension": ".py",
   "mimetype": "text/x-python",
   "name": "python",
   "nbconvert_exporter": "python",
   "pygments_lexer": "ipython3",
   "version": "3.9.13"
  },
  "vscode": {
   "interpreter": {
    "hash": "ecddbe197b1f4742b2eba7c3621fa1c99029a249ecd4476594634aac3488aee0"
   }
  }
 },
 "nbformat": 4,
 "nbformat_minor": 2
}
